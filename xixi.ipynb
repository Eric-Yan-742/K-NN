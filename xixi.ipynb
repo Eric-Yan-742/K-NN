{
 "cells": [
  {
   "cell_type": "code",
   "execution_count": 1,
   "metadata": {},
   "outputs": [],
   "source": [
    "import numpy as np\n",
    "import matplotlib.pyplot as plt\n",
    "from utils.data_processing import get_cifar10_data\n",
    "from algorithms import KNN\n"
   ]
  },
  {
   "cell_type": "code",
   "execution_count": 2,
   "metadata": {},
   "outputs": [],
   "source": [
    "\n",
    "dataset = get_cifar10_data(subset_train=5000, subset_val=250, subset_test=500)"
   ]
  },
  {
   "cell_type": "code",
   "execution_count": 3,
   "metadata": {},
   "outputs": [],
   "source": [
    "knn = KNN(num_class=10)\n",
    "knn.train(\n",
    "    x_train=dataset[\"x_train\"],\n",
    "    y_train=dataset[\"y_train\"],\n",
    "    k=5,\n",
    ")"
   ]
  },
  {
   "cell_type": "code",
   "execution_count": 4,
   "metadata": {},
   "outputs": [],
   "source": [
    "\n",
    "result = knn.predict(dataset[\"x_test\"], 3, 2)"
   ]
  },
  {
   "cell_type": "code",
   "execution_count": 5,
   "metadata": {},
   "outputs": [
    {
     "name": "stdout",
     "output_type": "stream",
     "text": [
      "[4. 9. 8. 8. 4. 6. 3. 2. 8. 9. 8. 7. 4. 7. 4. 4. 5. 3. 1. 3. 2. 0. 0. 7.\n",
      " 2. 4. 4. 7. 4. 4. 6. 2. 4. 6. 9. 1. 4. 8. 2. 5. 8. 3. 2. 4. 8. 0. 5. 0.\n",
      " 4. 2. 7. 8. 6. 2. 8. 8. 5. 3. 4. 0. 4. 5. 4. 8. 4. 2. 8. 0. 3. 9. 2. 6.\n",
      " 8. 8. 4. 4. 6. 3. 6. 0. 8. 3. 5. 8. 2. 2. 3. 8. 8. 8. 0. 4. 8. 1. 4. 0.\n",
      " 4. 8. 3. 6. 4. 4. 3. 4. 1. 1. 6. 6. 3. 5. 3. 2. 6. 8. 8. 4. 0. 2. 6. 4.\n",
      " 8. 4. 2. 2. 8. 4. 0. 2. 6. 2. 2. 1. 8. 3. 3. 5. 9. 0. 2. 8. 2. 2. 3. 5.\n",
      " 9. 4. 2. 5. 5. 5. 8. 3. 6. 8. 4. 4. 2. 8. 5. 4. 2. 4. 3. 2. 9. 9. 8. 2.\n",
      " 8. 0. 8. 4. 8. 8. 7. 1. 5. 4. 6. 2. 8. 4. 2. 0. 0. 8. 6. 6. 3. 0. 7. 4.\n",
      " 4. 3. 6. 4. 0. 8. 7. 6. 7. 0. 8. 4. 8. 4. 0. 4. 2. 0. 6. 2. 2. 4. 8. 2.\n",
      " 1. 9. 0. 4. 7. 4. 7. 4. 2. 6. 4. 2. 6. 4. 1. 1. 2. 3. 8. 0. 4. 9. 0. 5.\n",
      " 0. 4. 2. 8. 2. 2. 6. 0. 4. 3. 3. 3. 4. 0. 6. 8. 4. 8. 8. 4. 6. 8. 3. 2.\n",
      " 2. 8. 2. 4. 7. 0. 2. 2. 6. 3. 8. 5. 0. 2. 6. 6. 9. 4. 2. 1. 0. 4. 5. 8.\n",
      " 8. 9. 2. 2. 2. 2. 3. 4. 2. 0. 2. 2. 4. 3. 5. 3. 2. 9. 8. 2. 5. 2. 8. 4.\n",
      " 0. 0. 3. 7. 4. 4. 2. 4. 5. 6. 6. 2. 6. 2. 4. 3. 2. 4. 2. 9. 2. 4. 4. 2.\n",
      " 6. 8. 2. 0. 4. 6. 0. 7. 8. 2. 4. 2. 8. 9. 3. 2. 1. 0. 2. 5. 2. 4. 8. 1.\n",
      " 8. 5. 8. 2. 0. 8. 1. 0. 0. 4. 2. 8. 4. 8. 7. 2. 8. 8. 3. 2. 4. 7. 2. 0.\n",
      " 2. 2. 3. 2. 2. 6. 0. 0. 2. 6. 3. 4. 2. 3. 2. 3. 9. 4. 4. 8. 8. 4. 0. 8.\n",
      " 0. 3. 8. 8. 2. 4. 9. 8. 0. 6. 2. 4. 6. 7. 8. 3. 2. 8. 5. 4. 2. 3. 2. 8.\n",
      " 4. 6. 3. 4. 3. 2. 2. 3. 2. 2. 9. 8. 2. 2. 0. 0. 2. 2. 6. 9. 7. 2. 1. 2.\n",
      " 2. 6. 3. 8. 4. 5. 2. 4. 2. 4. 4. 2. 3. 8. 2. 7. 8. 8. 5. 7. 4. 0. 4. 4.\n",
      " 8. 2. 0. 2. 2. 8. 9. 4. 0. 2. 1. 8. 8. 4. 1. 0. 8. 0. 2. 0.]\n"
     ]
    }
   ],
   "source": [
    "print(result)"
   ]
  },
  {
   "cell_type": "code",
   "execution_count": 6,
   "metadata": {},
   "outputs": [
    {
     "name": "stdout",
     "output_type": "stream",
     "text": [
      "500\n"
     ]
    }
   ],
   "source": [
    "print(len(result))"
   ]
  }
 ],
 "metadata": {
  "kernelspec": {
   "display_name": "Python 3 (ipykernel)",
   "language": "python",
   "name": "python3"
  },
  "language_info": {
   "codemirror_mode": {
    "name": "ipython",
    "version": 3
   },
   "file_extension": ".py",
   "mimetype": "text/x-python",
   "name": "python",
   "nbconvert_exporter": "python",
   "pygments_lexer": "ipython3",
   "version": "3.9.5"
  }
 },
 "nbformat": 4,
 "nbformat_minor": 4
}
